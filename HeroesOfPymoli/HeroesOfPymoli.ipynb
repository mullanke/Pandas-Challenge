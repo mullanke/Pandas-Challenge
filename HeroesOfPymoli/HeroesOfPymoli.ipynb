{
 "cells": [
  {
   "cell_type": "markdown",
   "metadata": {},
   "source": [
    "### Note\n",
    "* Instructions have been included for each segment. You do not have to follow them exactly, but they are included to help you think through the steps."
   ]
  },
  {
   "cell_type": "code",
   "execution_count": null,
   "metadata": {},
   "outputs": [],
   "source": [
    "# Dependencies and Setup\n",
    "import pandas as pd\n",
    "\n",
    "# Read CSV and store DF\n",
    "file_to_load = \"Resources/purchase_data.csv\"\n",
    "\n",
    "purchase_data = pd.read_csv(file_to_load)"
   ]
  },
  {
   "cell_type": "code",
   "execution_count": 149,
   "metadata": {},
   "outputs": [
    {
     "data": {
      "text/html": [
       "<div>\n",
       "<style scoped>\n",
       "    .dataframe tbody tr th:only-of-type {\n",
       "        vertical-align: middle;\n",
       "    }\n",
       "\n",
       "    .dataframe tbody tr th {\n",
       "        vertical-align: top;\n",
       "    }\n",
       "\n",
       "    .dataframe thead th {\n",
       "        text-align: right;\n",
       "    }\n",
       "</style>\n",
       "<table border=\"1\" class=\"dataframe\">\n",
       "  <thead>\n",
       "    <tr style=\"text-align: right;\">\n",
       "      <th></th>\n",
       "      <th>Purchase ID</th>\n",
       "      <th>Age</th>\n",
       "      <th>Item ID</th>\n",
       "      <th>Price</th>\n",
       "    </tr>\n",
       "  </thead>\n",
       "  <tbody>\n",
       "    <tr>\n",
       "      <th>count</th>\n",
       "      <td>780.000000</td>\n",
       "      <td>780.000000</td>\n",
       "      <td>780.000000</td>\n",
       "      <td>780.000000</td>\n",
       "    </tr>\n",
       "    <tr>\n",
       "      <th>mean</th>\n",
       "      <td>389.500000</td>\n",
       "      <td>22.714103</td>\n",
       "      <td>91.755128</td>\n",
       "      <td>3.050987</td>\n",
       "    </tr>\n",
       "    <tr>\n",
       "      <th>std</th>\n",
       "      <td>225.310896</td>\n",
       "      <td>6.659444</td>\n",
       "      <td>52.697702</td>\n",
       "      <td>1.169549</td>\n",
       "    </tr>\n",
       "    <tr>\n",
       "      <th>min</th>\n",
       "      <td>0.000000</td>\n",
       "      <td>7.000000</td>\n",
       "      <td>0.000000</td>\n",
       "      <td>1.000000</td>\n",
       "    </tr>\n",
       "    <tr>\n",
       "      <th>25%</th>\n",
       "      <td>194.750000</td>\n",
       "      <td>20.000000</td>\n",
       "      <td>47.750000</td>\n",
       "      <td>1.980000</td>\n",
       "    </tr>\n",
       "    <tr>\n",
       "      <th>50%</th>\n",
       "      <td>389.500000</td>\n",
       "      <td>22.000000</td>\n",
       "      <td>92.000000</td>\n",
       "      <td>3.150000</td>\n",
       "    </tr>\n",
       "    <tr>\n",
       "      <th>75%</th>\n",
       "      <td>584.250000</td>\n",
       "      <td>25.000000</td>\n",
       "      <td>138.000000</td>\n",
       "      <td>4.080000</td>\n",
       "    </tr>\n",
       "    <tr>\n",
       "      <th>max</th>\n",
       "      <td>779.000000</td>\n",
       "      <td>45.000000</td>\n",
       "      <td>183.000000</td>\n",
       "      <td>4.990000</td>\n",
       "    </tr>\n",
       "  </tbody>\n",
       "</table>\n",
       "</div>"
      ],
      "text/plain": [
       "       Purchase ID         Age     Item ID       Price\n",
       "count   780.000000  780.000000  780.000000  780.000000\n",
       "mean    389.500000   22.714103   91.755128    3.050987\n",
       "std     225.310896    6.659444   52.697702    1.169549\n",
       "min       0.000000    7.000000    0.000000    1.000000\n",
       "25%     194.750000   20.000000   47.750000    1.980000\n",
       "50%     389.500000   22.000000   92.000000    3.150000\n",
       "75%     584.250000   25.000000  138.000000    4.080000\n",
       "max     779.000000   45.000000  183.000000    4.990000"
      ]
     },
     "execution_count": 149,
     "metadata": {},
     "output_type": "execute_result"
    }
   ],
   "source": [
    "#Display statistical overview of file\n",
    "\n",
    "purchase_data.describe()"
   ]
  },
  {
   "cell_type": "markdown",
   "metadata": {},
   "source": [
    "## Player Count"
   ]
  },
  {
   "cell_type": "markdown",
   "metadata": {},
   "source": [
    "* Display the total number of players\n"
   ]
  },
  {
   "cell_type": "code",
   "execution_count": 147,
   "metadata": {},
   "outputs": [
    {
     "data": {
      "text/html": [
       "<div>\n",
       "<style scoped>\n",
       "    .dataframe tbody tr th:only-of-type {\n",
       "        vertical-align: middle;\n",
       "    }\n",
       "\n",
       "    .dataframe tbody tr th {\n",
       "        vertical-align: top;\n",
       "    }\n",
       "\n",
       "    .dataframe thead th {\n",
       "        text-align: right;\n",
       "    }\n",
       "</style>\n",
       "<table border=\"1\" class=\"dataframe\">\n",
       "  <thead>\n",
       "    <tr style=\"text-align: right;\">\n",
       "      <th></th>\n",
       "      <th>Total Players</th>\n",
       "    </tr>\n",
       "  </thead>\n",
       "  <tbody>\n",
       "    <tr>\n",
       "      <th>0</th>\n",
       "      <td>576</td>\n",
       "    </tr>\n",
       "  </tbody>\n",
       "</table>\n",
       "</div>"
      ],
      "text/plain": [
       "   Total Players\n",
       "0            576"
      ]
     },
     "execution_count": 147,
     "metadata": {},
     "output_type": "execute_result"
    }
   ],
   "source": [
    "purchase_data.describe()\n",
    "\n",
    "# Use length of list \"SN\" aka screen names\n",
    "\n",
    "total_players= len(purchase_data[\"SN\"].value_counts())\n",
    "\n",
    "# Create Data Frame for Player Count\n",
    "\n",
    "player_count = pd.DataFrame({\"Total Players\" : [total_players]})\n",
    "player_count"
   ]
  },
  {
   "cell_type": "markdown",
   "metadata": {},
   "source": [
    "## Purchasing Analysis (Total)"
   ]
  },
  {
   "cell_type": "markdown",
   "metadata": {},
   "source": [
    "* Run basic calculations to obtain number of unique items, average price, etc.\n",
    "\n",
    "\n",
    "* Create a summary data frame to hold the results\n",
    "\n",
    "\n",
    "* Optional: give the displayed data cleaner formatting\n",
    "\n",
    "\n",
    "* Display the summary data frame\n"
   ]
  },
  {
   "cell_type": "code",
   "execution_count": 146,
   "metadata": {
    "scrolled": true
   },
   "outputs": [
    {
     "data": {
      "text/html": [
       "<div>\n",
       "<style scoped>\n",
       "    .dataframe tbody tr th:only-of-type {\n",
       "        vertical-align: middle;\n",
       "    }\n",
       "\n",
       "    .dataframe tbody tr th {\n",
       "        vertical-align: top;\n",
       "    }\n",
       "\n",
       "    .dataframe thead th {\n",
       "        text-align: right;\n",
       "    }\n",
       "</style>\n",
       "<table border=\"1\" class=\"dataframe\">\n",
       "  <thead>\n",
       "    <tr style=\"text-align: right;\">\n",
       "      <th></th>\n",
       "      <th>Number of Unique Items</th>\n",
       "      <th>Average Price</th>\n",
       "      <th>Number of Purchases</th>\n",
       "      <th>Total Revenue</th>\n",
       "    </tr>\n",
       "  </thead>\n",
       "  <tbody>\n",
       "    <tr>\n",
       "      <th>0</th>\n",
       "      <td>179</td>\n",
       "      <td>3.050987</td>\n",
       "      <td>780</td>\n",
       "      <td>2379.77</td>\n",
       "    </tr>\n",
       "  </tbody>\n",
       "</table>\n",
       "</div>"
      ],
      "text/plain": [
       "   Number of Unique Items  Average Price  Number of Purchases  Total Revenue\n",
       "0                     179       3.050987                  780        2379.77"
      ]
     },
     "execution_count": 146,
     "metadata": {},
     "output_type": "execute_result"
    }
   ],
   "source": [
    "# Unique items, average price, purchase count, and revenue\n",
    "\n",
    "unique_items = len((purchase_data[\"Item ID\"]).unique())\n",
    "average_price= (purchase_data[\"Price\"]).mean()\n",
    "number_of_purchases= (purchase_data[\"Purchase ID\"]).count()\n",
    "total_revenue= (purchase_data[\"Price\"]).sum()\n",
    "\n",
    "# DF\n",
    "\n",
    "analysis_df = pd.DataFrame({\"Number of Unique Items\":[unique_items],\n",
    "                           \"Average Price\":[average_price], \n",
    "                           \"Number of Purchases\": [number_of_purchases], \n",
    "                           \"Total Revenue\": [total_revenue]})\n",
    "\n",
    "# Display\n",
    "\n",
    "analysis_df\n",
    "                                                              "
   ]
  },
  {
   "cell_type": "markdown",
   "metadata": {},
   "source": [
    "## Gender Demographics"
   ]
  },
  {
   "cell_type": "markdown",
   "metadata": {},
   "source": [
    "* Percentage and Count of Male Players\n",
    "\n",
    "\n",
    "* Percentage and Count of Female Players\n",
    "\n",
    "\n",
    "* Percentage and Count of Other / Non-Disclosed\n",
    "\n",
    "\n"
   ]
  },
  {
   "cell_type": "code",
   "execution_count": 95,
   "metadata": {},
   "outputs": [
    {
     "data": {
      "text/html": [
       "<div>\n",
       "<style scoped>\n",
       "    .dataframe tbody tr th:only-of-type {\n",
       "        vertical-align: middle;\n",
       "    }\n",
       "\n",
       "    .dataframe tbody tr th {\n",
       "        vertical-align: top;\n",
       "    }\n",
       "\n",
       "    .dataframe thead th {\n",
       "        text-align: right;\n",
       "    }\n",
       "</style>\n",
       "<table border=\"1\" class=\"dataframe\">\n",
       "  <thead>\n",
       "    <tr style=\"text-align: right;\">\n",
       "      <th></th>\n",
       "      <th>Percentage of Players</th>\n",
       "      <th>Gender Total</th>\n",
       "    </tr>\n",
       "    <tr>\n",
       "      <th>Gender</th>\n",
       "      <th></th>\n",
       "      <th></th>\n",
       "    </tr>\n",
       "  </thead>\n",
       "  <tbody>\n",
       "    <tr>\n",
       "      <th>Female</th>\n",
       "      <td>14.06</td>\n",
       "      <td>81</td>\n",
       "    </tr>\n",
       "    <tr>\n",
       "      <th>Male</th>\n",
       "      <td>84.03</td>\n",
       "      <td>484</td>\n",
       "    </tr>\n",
       "    <tr>\n",
       "      <th>Other / Non-Disclosed</th>\n",
       "      <td>1.91</td>\n",
       "      <td>11</td>\n",
       "    </tr>\n",
       "  </tbody>\n",
       "</table>\n",
       "</div>"
      ],
      "text/plain": [
       "                       Percentage of Players  Gender Total\n",
       "Gender                                                    \n",
       "Female                                 14.06            81\n",
       "Male                                   84.03           484\n",
       "Other / Non-Disclosed                   1.91            11"
      ]
     },
     "execution_count": 95,
     "metadata": {},
     "output_type": "execute_result"
    }
   ],
   "source": [
    "# Group purchase_data by Gender\n",
    "gender = purchase_data.groupby(\"Gender\")\n",
    "\n",
    "# Find gender total by screen name count\n",
    "gender_total = gender.nunique()[\"SN\"]\n",
    "\n",
    "# Find Percentage \n",
    "player_percentage = gender_total / total_players * 100\n",
    "\n",
    "# Create Data Frame\n",
    "gender_demographics = pd.DataFrame({\"Percentage of Players\": player_percentage, \n",
    "                                    \"Gender Total\": gender_total})\n",
    "\n",
    "# Format and Display\n",
    "\n",
    "gender_demographics = gender_demographics.round(2)\n",
    "gender_demographics"
   ]
  },
  {
   "cell_type": "markdown",
   "metadata": {},
   "source": [
    "\n",
    "## Purchasing Analysis (Gender)"
   ]
  },
  {
   "cell_type": "markdown",
   "metadata": {},
   "source": [
    "* Run basic calculations to obtain purchase count, avg. purchase price, avg. purchase total per person etc. by gender\n",
    "\n",
    "\n",
    "\n",
    "\n",
    "* Create a summary data frame to hold the results\n",
    "\n",
    "\n",
    "* Optional: give the displayed data cleaner formatting\n",
    "\n",
    "\n",
    "* Display the summary data frame"
   ]
  },
  {
   "cell_type": "code",
   "execution_count": 143,
   "metadata": {},
   "outputs": [
    {
     "data": {
      "text/html": [
       "<style  type=\"text/css\" >\n",
       "</style><table id=\"T_4c68241e_40d6_11eb_b40b_367dda630ba6\" ><thead>    <tr>        <th class=\"blank level0\" ></th>        <th class=\"col_heading level0 col0\" >Purchase Count</th>        <th class=\"col_heading level0 col1\" >Average Purchase Price</th>        <th class=\"col_heading level0 col2\" >Average Purchase Total</th>        <th class=\"col_heading level0 col3\" >Average Total Per Person</th>    </tr>    <tr>        <th class=\"index_name level0\" >Gender</th>        <th class=\"blank\" ></th>        <th class=\"blank\" ></th>        <th class=\"blank\" ></th>        <th class=\"blank\" ></th>    </tr></thead><tbody>\n",
       "                <tr>\n",
       "                        <th id=\"T_4c68241e_40d6_11eb_b40b_367dda630ba6level0_row0\" class=\"row_heading level0 row0\" >Female</th>\n",
       "                        <td id=\"T_4c68241e_40d6_11eb_b40b_367dda630ba6row0_col0\" class=\"data row0 col0\" >113</td>\n",
       "                        <td id=\"T_4c68241e_40d6_11eb_b40b_367dda630ba6row0_col1\" class=\"data row0 col1\" >$3.20</td>\n",
       "                        <td id=\"T_4c68241e_40d6_11eb_b40b_367dda630ba6row0_col2\" class=\"data row0 col2\" >$361.94</td>\n",
       "                        <td id=\"T_4c68241e_40d6_11eb_b40b_367dda630ba6row0_col3\" class=\"data row0 col3\" >$4.47</td>\n",
       "            </tr>\n",
       "            <tr>\n",
       "                        <th id=\"T_4c68241e_40d6_11eb_b40b_367dda630ba6level0_row1\" class=\"row_heading level0 row1\" >Male</th>\n",
       "                        <td id=\"T_4c68241e_40d6_11eb_b40b_367dda630ba6row1_col0\" class=\"data row1 col0\" >652</td>\n",
       "                        <td id=\"T_4c68241e_40d6_11eb_b40b_367dda630ba6row1_col1\" class=\"data row1 col1\" >$3.02</td>\n",
       "                        <td id=\"T_4c68241e_40d6_11eb_b40b_367dda630ba6row1_col2\" class=\"data row1 col2\" >$1,967.64</td>\n",
       "                        <td id=\"T_4c68241e_40d6_11eb_b40b_367dda630ba6row1_col3\" class=\"data row1 col3\" >$4.07</td>\n",
       "            </tr>\n",
       "            <tr>\n",
       "                        <th id=\"T_4c68241e_40d6_11eb_b40b_367dda630ba6level0_row2\" class=\"row_heading level0 row2\" >Other / Non-Disclosed</th>\n",
       "                        <td id=\"T_4c68241e_40d6_11eb_b40b_367dda630ba6row2_col0\" class=\"data row2 col0\" >15</td>\n",
       "                        <td id=\"T_4c68241e_40d6_11eb_b40b_367dda630ba6row2_col1\" class=\"data row2 col1\" >$3.35</td>\n",
       "                        <td id=\"T_4c68241e_40d6_11eb_b40b_367dda630ba6row2_col2\" class=\"data row2 col2\" >$50.19</td>\n",
       "                        <td id=\"T_4c68241e_40d6_11eb_b40b_367dda630ba6row2_col3\" class=\"data row2 col3\" >$4.56</td>\n",
       "            </tr>\n",
       "    </tbody></table>"
      ],
      "text/plain": [
       "<pandas.io.formats.style.Styler at 0x7f9b124c6ee0>"
      ]
     },
     "execution_count": 143,
     "metadata": {},
     "output_type": "execute_result"
    }
   ],
   "source": [
    "    \n",
    "# Avg. purchase price\n",
    "\n",
    "avg_purchase_price = gender[\"Price\"].mean()\n",
    "\n",
    "# Avg. purchase total per person etc. by gender\n",
    "\n",
    "avg_purchase_total = gender[\"Price\"].sum()\n",
    "\n",
    "avg_purchase_per_person = avg_purchase_total / total_count_gender \n",
    "\n",
    "# Create Data Frame\n",
    "\n",
    "purchase_df = pd.DataFrame({\"Purchase Count\":purchase_count, \n",
    "                           \"Average Purchase Price\":avg_purchase_price, \n",
    "                           \"Average Purchase Total\":avg_purchase_total,\n",
    "                           \"Average Total Per Person\": avg_purchase_per_person})\n",
    "\n",
    "# Format and Display\n",
    "\n",
    "purchase_df.style.format({\"Average Purchase Total\":\"${:,.2f}\",\n",
    "                          \"Average Purchase Price\":\"${:,.2f}\",\n",
    "                          \"Average Total Per Person\":\"${:,.2f}\"})\n",
    "\n"
   ]
  },
  {
   "cell_type": "markdown",
   "metadata": {},
   "source": [
    "## Age Demographics"
   ]
  },
  {
   "cell_type": "markdown",
   "metadata": {},
   "source": [
    "* Establish bins for ages\n",
    "\n",
    "\n",
    "* Categorize the existing players using the age bins. Hint: use pd.cut()\n",
    "\n",
    "\n",
    "* Calculate the numbers and percentages by age group\n",
    "\n",
    "\n",
    "* Create a summary data frame to hold the results\n",
    "\n",
    "\n",
    "* Optional: round the percentage column to two decimal points\n",
    "\n",
    "\n",
    "* Display Age Demographics Table\n"
   ]
  },
  {
   "cell_type": "code",
   "execution_count": 137,
   "metadata": {},
   "outputs": [
    {
     "data": {
      "text/html": [
       "<style  type=\"text/css\" >\n",
       "</style><table id=\"T_edff2624_40d1_11eb_b40b_367dda630ba6\" ><thead>    <tr>        <th class=\"blank level0\" ></th>        <th class=\"col_heading level0 col0\" >Percentage of Players</th>        <th class=\"col_heading level0 col1\" >Total Count</th>    </tr>    <tr>        <th class=\"index_name level0\" >Age Group</th>        <th class=\"blank\" ></th>        <th class=\"blank\" ></th>    </tr></thead><tbody>\n",
       "                <tr>\n",
       "                        <th id=\"T_edff2624_40d1_11eb_b40b_367dda630ba6level0_row0\" class=\"row_heading level0 row0\" ><10</th>\n",
       "                        <td id=\"T_edff2624_40d1_11eb_b40b_367dda630ba6row0_col0\" class=\"data row0 col0\" >2.95</td>\n",
       "                        <td id=\"T_edff2624_40d1_11eb_b40b_367dda630ba6row0_col1\" class=\"data row0 col1\" >17</td>\n",
       "            </tr>\n",
       "            <tr>\n",
       "                        <th id=\"T_edff2624_40d1_11eb_b40b_367dda630ba6level0_row1\" class=\"row_heading level0 row1\" >10-14</th>\n",
       "                        <td id=\"T_edff2624_40d1_11eb_b40b_367dda630ba6row1_col0\" class=\"data row1 col0\" >3.82</td>\n",
       "                        <td id=\"T_edff2624_40d1_11eb_b40b_367dda630ba6row1_col1\" class=\"data row1 col1\" >22</td>\n",
       "            </tr>\n",
       "            <tr>\n",
       "                        <th id=\"T_edff2624_40d1_11eb_b40b_367dda630ba6level0_row2\" class=\"row_heading level0 row2\" >15-19</th>\n",
       "                        <td id=\"T_edff2624_40d1_11eb_b40b_367dda630ba6row2_col0\" class=\"data row2 col0\" >18.58</td>\n",
       "                        <td id=\"T_edff2624_40d1_11eb_b40b_367dda630ba6row2_col1\" class=\"data row2 col1\" >107</td>\n",
       "            </tr>\n",
       "            <tr>\n",
       "                        <th id=\"T_edff2624_40d1_11eb_b40b_367dda630ba6level0_row3\" class=\"row_heading level0 row3\" >20-24</th>\n",
       "                        <td id=\"T_edff2624_40d1_11eb_b40b_367dda630ba6row3_col0\" class=\"data row3 col0\" >44.79</td>\n",
       "                        <td id=\"T_edff2624_40d1_11eb_b40b_367dda630ba6row3_col1\" class=\"data row3 col1\" >258</td>\n",
       "            </tr>\n",
       "            <tr>\n",
       "                        <th id=\"T_edff2624_40d1_11eb_b40b_367dda630ba6level0_row4\" class=\"row_heading level0 row4\" >25-29</th>\n",
       "                        <td id=\"T_edff2624_40d1_11eb_b40b_367dda630ba6row4_col0\" class=\"data row4 col0\" >13.37</td>\n",
       "                        <td id=\"T_edff2624_40d1_11eb_b40b_367dda630ba6row4_col1\" class=\"data row4 col1\" >77</td>\n",
       "            </tr>\n",
       "            <tr>\n",
       "                        <th id=\"T_edff2624_40d1_11eb_b40b_367dda630ba6level0_row5\" class=\"row_heading level0 row5\" >30-34</th>\n",
       "                        <td id=\"T_edff2624_40d1_11eb_b40b_367dda630ba6row5_col0\" class=\"data row5 col0\" >9.03</td>\n",
       "                        <td id=\"T_edff2624_40d1_11eb_b40b_367dda630ba6row5_col1\" class=\"data row5 col1\" >52</td>\n",
       "            </tr>\n",
       "            <tr>\n",
       "                        <th id=\"T_edff2624_40d1_11eb_b40b_367dda630ba6level0_row6\" class=\"row_heading level0 row6\" >35-39</th>\n",
       "                        <td id=\"T_edff2624_40d1_11eb_b40b_367dda630ba6row6_col0\" class=\"data row6 col0\" >5.38</td>\n",
       "                        <td id=\"T_edff2624_40d1_11eb_b40b_367dda630ba6row6_col1\" class=\"data row6 col1\" >31</td>\n",
       "            </tr>\n",
       "            <tr>\n",
       "                        <th id=\"T_edff2624_40d1_11eb_b40b_367dda630ba6level0_row7\" class=\"row_heading level0 row7\" >40+</th>\n",
       "                        <td id=\"T_edff2624_40d1_11eb_b40b_367dda630ba6row7_col0\" class=\"data row7 col0\" >2.08</td>\n",
       "                        <td id=\"T_edff2624_40d1_11eb_b40b_367dda630ba6row7_col1\" class=\"data row7 col1\" >12</td>\n",
       "            </tr>\n",
       "    </tbody></table>"
      ],
      "text/plain": [
       "<pandas.io.formats.style.Styler at 0x7f9b12243190>"
      ]
     },
     "execution_count": 137,
     "metadata": {},
     "output_type": "execute_result"
    }
   ],
   "source": [
    "# Make bins by ages\n",
    "age_bin = [0, 9.90, 14.90, 19.90, 24.90, 29.90, 34.90, 39.90, 99999]\n",
    "age_groups= [\"<10\", \"10-14\", \"15-19\", \"20-24\", \"25-29\", \"30-34\", \"35-39\", \"40+\"]\n",
    "\n",
    "purchase_data[\"Age Group\"] = pd.cut(purchase_data[\"Age\"],age_bin, labels=age_groups)\n",
    "purchase_data\n",
    "\n",
    "# Grouby DF\n",
    "age_groupby = purchase_data.groupby(\"Age Group\")\n",
    "\n",
    "# Total players by age \n",
    "age_total = age_groupby[\"SN\"].nunique()\n",
    "\n",
    "# Percentages by age \n",
    "percentage_by_age = (age_total/total_players) * 100\n",
    "\n",
    "# Summary DF\n",
    "age_demographics = pd.DataFrame({\"Percentage of Players\": percentage_by_age, \"Total Count\": age_total})\n",
    "\n",
    "# Format and Display \n",
    "age_demographics.style.format({\"Percentage of Players\":\"{:,.2f}\"})"
   ]
  },
  {
   "cell_type": "markdown",
   "metadata": {},
   "source": [
    "## Purchasing Analysis (Age)"
   ]
  },
  {
   "cell_type": "markdown",
   "metadata": {},
   "source": [
    "* Bin the purchase_data data frame by age\n",
    "\n",
    "\n",
    "* Run basic calculations to obtain purchase count, avg. purchase price, avg. purchase total per person etc. in the table below\n",
    "\n",
    "\n",
    "* Create a summary data frame to hold the results\n",
    "\n",
    "\n",
    "* Optional: give the displayed data cleaner formatting\n",
    "\n",
    "\n",
    "* Display the summary data frame"
   ]
  },
  {
   "cell_type": "code",
   "execution_count": 138,
   "metadata": {},
   "outputs": [
    {
     "data": {
      "text/html": [
       "<style  type=\"text/css\" >\n",
       "</style><table id=\"T_51f480c0_40d2_11eb_b40b_367dda630ba6\" ><thead>    <tr>        <th class=\"blank level0\" ></th>        <th class=\"col_heading level0 col0\" >Purchase Count</th>        <th class=\"col_heading level0 col1\" >Average Purchase Price</th>        <th class=\"col_heading level0 col2\" >Total Purchase Value</th>        <th class=\"col_heading level0 col3\" >Average Purchase Total per Person</th>    </tr></thead><tbody>\n",
       "                <tr>\n",
       "                        <th id=\"T_51f480c0_40d2_11eb_b40b_367dda630ba6level0_row0\" class=\"row_heading level0 row0\" ><10</th>\n",
       "                        <td id=\"T_51f480c0_40d2_11eb_b40b_367dda630ba6row0_col0\" class=\"data row0 col0\" >23</td>\n",
       "                        <td id=\"T_51f480c0_40d2_11eb_b40b_367dda630ba6row0_col1\" class=\"data row0 col1\" >$3.35</td>\n",
       "                        <td id=\"T_51f480c0_40d2_11eb_b40b_367dda630ba6row0_col2\" class=\"data row0 col2\" >$77.13</td>\n",
       "                        <td id=\"T_51f480c0_40d2_11eb_b40b_367dda630ba6row0_col3\" class=\"data row0 col3\" >$4.54</td>\n",
       "            </tr>\n",
       "            <tr>\n",
       "                        <th id=\"T_51f480c0_40d2_11eb_b40b_367dda630ba6level0_row1\" class=\"row_heading level0 row1\" >10-14</th>\n",
       "                        <td id=\"T_51f480c0_40d2_11eb_b40b_367dda630ba6row1_col0\" class=\"data row1 col0\" >28</td>\n",
       "                        <td id=\"T_51f480c0_40d2_11eb_b40b_367dda630ba6row1_col1\" class=\"data row1 col1\" >$2.96</td>\n",
       "                        <td id=\"T_51f480c0_40d2_11eb_b40b_367dda630ba6row1_col2\" class=\"data row1 col2\" >$82.78</td>\n",
       "                        <td id=\"T_51f480c0_40d2_11eb_b40b_367dda630ba6row1_col3\" class=\"data row1 col3\" >$3.76</td>\n",
       "            </tr>\n",
       "            <tr>\n",
       "                        <th id=\"T_51f480c0_40d2_11eb_b40b_367dda630ba6level0_row2\" class=\"row_heading level0 row2\" >15-19</th>\n",
       "                        <td id=\"T_51f480c0_40d2_11eb_b40b_367dda630ba6row2_col0\" class=\"data row2 col0\" >136</td>\n",
       "                        <td id=\"T_51f480c0_40d2_11eb_b40b_367dda630ba6row2_col1\" class=\"data row2 col1\" >$3.04</td>\n",
       "                        <td id=\"T_51f480c0_40d2_11eb_b40b_367dda630ba6row2_col2\" class=\"data row2 col2\" >$412.89</td>\n",
       "                        <td id=\"T_51f480c0_40d2_11eb_b40b_367dda630ba6row2_col3\" class=\"data row2 col3\" >$3.86</td>\n",
       "            </tr>\n",
       "            <tr>\n",
       "                        <th id=\"T_51f480c0_40d2_11eb_b40b_367dda630ba6level0_row3\" class=\"row_heading level0 row3\" >20-24</th>\n",
       "                        <td id=\"T_51f480c0_40d2_11eb_b40b_367dda630ba6row3_col0\" class=\"data row3 col0\" >365</td>\n",
       "                        <td id=\"T_51f480c0_40d2_11eb_b40b_367dda630ba6row3_col1\" class=\"data row3 col1\" >$3.05</td>\n",
       "                        <td id=\"T_51f480c0_40d2_11eb_b40b_367dda630ba6row3_col2\" class=\"data row3 col2\" >$1,114.06</td>\n",
       "                        <td id=\"T_51f480c0_40d2_11eb_b40b_367dda630ba6row3_col3\" class=\"data row3 col3\" >$4.32</td>\n",
       "            </tr>\n",
       "            <tr>\n",
       "                        <th id=\"T_51f480c0_40d2_11eb_b40b_367dda630ba6level0_row4\" class=\"row_heading level0 row4\" >25-29</th>\n",
       "                        <td id=\"T_51f480c0_40d2_11eb_b40b_367dda630ba6row4_col0\" class=\"data row4 col0\" >101</td>\n",
       "                        <td id=\"T_51f480c0_40d2_11eb_b40b_367dda630ba6row4_col1\" class=\"data row4 col1\" >$2.90</td>\n",
       "                        <td id=\"T_51f480c0_40d2_11eb_b40b_367dda630ba6row4_col2\" class=\"data row4 col2\" >$293.00</td>\n",
       "                        <td id=\"T_51f480c0_40d2_11eb_b40b_367dda630ba6row4_col3\" class=\"data row4 col3\" >$3.81</td>\n",
       "            </tr>\n",
       "            <tr>\n",
       "                        <th id=\"T_51f480c0_40d2_11eb_b40b_367dda630ba6level0_row5\" class=\"row_heading level0 row5\" >30-34</th>\n",
       "                        <td id=\"T_51f480c0_40d2_11eb_b40b_367dda630ba6row5_col0\" class=\"data row5 col0\" >73</td>\n",
       "                        <td id=\"T_51f480c0_40d2_11eb_b40b_367dda630ba6row5_col1\" class=\"data row5 col1\" >$2.93</td>\n",
       "                        <td id=\"T_51f480c0_40d2_11eb_b40b_367dda630ba6row5_col2\" class=\"data row5 col2\" >$214.00</td>\n",
       "                        <td id=\"T_51f480c0_40d2_11eb_b40b_367dda630ba6row5_col3\" class=\"data row5 col3\" >$4.12</td>\n",
       "            </tr>\n",
       "            <tr>\n",
       "                        <th id=\"T_51f480c0_40d2_11eb_b40b_367dda630ba6level0_row6\" class=\"row_heading level0 row6\" >35-39</th>\n",
       "                        <td id=\"T_51f480c0_40d2_11eb_b40b_367dda630ba6row6_col0\" class=\"data row6 col0\" >41</td>\n",
       "                        <td id=\"T_51f480c0_40d2_11eb_b40b_367dda630ba6row6_col1\" class=\"data row6 col1\" >$3.60</td>\n",
       "                        <td id=\"T_51f480c0_40d2_11eb_b40b_367dda630ba6row6_col2\" class=\"data row6 col2\" >$147.67</td>\n",
       "                        <td id=\"T_51f480c0_40d2_11eb_b40b_367dda630ba6row6_col3\" class=\"data row6 col3\" >$4.76</td>\n",
       "            </tr>\n",
       "            <tr>\n",
       "                        <th id=\"T_51f480c0_40d2_11eb_b40b_367dda630ba6level0_row7\" class=\"row_heading level0 row7\" >40+</th>\n",
       "                        <td id=\"T_51f480c0_40d2_11eb_b40b_367dda630ba6row7_col0\" class=\"data row7 col0\" >13</td>\n",
       "                        <td id=\"T_51f480c0_40d2_11eb_b40b_367dda630ba6row7_col1\" class=\"data row7 col1\" >$2.94</td>\n",
       "                        <td id=\"T_51f480c0_40d2_11eb_b40b_367dda630ba6row7_col2\" class=\"data row7 col2\" >$38.24</td>\n",
       "                        <td id=\"T_51f480c0_40d2_11eb_b40b_367dda630ba6row7_col3\" class=\"data row7 col3\" >$3.19</td>\n",
       "            </tr>\n",
       "    </tbody></table>"
      ],
      "text/plain": [
       "<pandas.io.formats.style.Styler at 0x7f9b12457e50>"
      ]
     },
     "execution_count": 138,
     "metadata": {},
     "output_type": "execute_result"
    }
   ],
   "source": [
    "# Count by age group\n",
    "purchase_count_age = age_grouped[\"Purchase ID\"].count()\n",
    "\n",
    "# Avg price by age group \n",
    "avg_purchase_price_age = age_grouped[\"Price\"].mean()\n",
    "\n",
    "# Total purchase total by age group \n",
    "total_purchase_total = age_grouped[\"Price\"].sum()\n",
    "\n",
    "# Calculate the average purchase per person in the age group \n",
    "avg_purchase_per_person_age = total_purchase_total/age_total\n",
    "\n",
    "# Create data frame with obtained values\n",
    "age_demographics = pd.DataFrame({\"Purchase Count\": purchase_count_age,\n",
    "                                 \"Average Purchase Price\": avg_purchase_price_age,\n",
    "                                 \"Total Purchase Value\":total_purchase_total,\n",
    "                                 \"Average Purchase Total per Person\": avg_purchase_per_person_age})\n",
    "\n",
    "# Format the data frame with no index name in the corner\n",
    "age_demographics.index.name = None\n",
    "\n",
    "# Format with currency style\n",
    "age_demographics.style.format({\"Average Purchase Price\":\"${:,.2f}\",\n",
    "                               \"Total Purchase Value\":\"${:,.2f}\",\n",
    "                               \"Average Purchase Total per Person\":\"${:,.2f}\"})"
   ]
  },
  {
   "cell_type": "markdown",
   "metadata": {},
   "source": [
    "## Top Spenders"
   ]
  },
  {
   "cell_type": "markdown",
   "metadata": {},
   "source": [
    "* Run basic calculations to obtain the results in the table below\n",
    "\n",
    "\n",
    "* Create a summary data frame to hold the results\n",
    "\n",
    "\n",
    "* Sort the total purchase value column in descending order\n",
    "\n",
    "\n",
    "* Optional: give the displayed data cleaner formatting\n",
    "\n",
    "\n",
    "* Display a preview of the summary data frame\n",
    "\n"
   ]
  },
  {
   "cell_type": "code",
   "execution_count": 139,
   "metadata": {},
   "outputs": [
    {
     "data": {
      "text/html": [
       "<style  type=\"text/css\" >\n",
       "</style><table id=\"T_9201e9dc_40d2_11eb_b40b_367dda630ba6\" ><thead>    <tr>        <th class=\"blank level0\" ></th>        <th class=\"col_heading level0 col0\" >Purchase Count</th>        <th class=\"col_heading level0 col1\" >Average Purchase Price</th>        <th class=\"col_heading level0 col2\" >Total Purchase Value</th>    </tr>    <tr>        <th class=\"index_name level0\" >SN</th>        <th class=\"blank\" ></th>        <th class=\"blank\" ></th>        <th class=\"blank\" ></th>    </tr></thead><tbody>\n",
       "                <tr>\n",
       "                        <th id=\"T_9201e9dc_40d2_11eb_b40b_367dda630ba6level0_row0\" class=\"row_heading level0 row0\" >Lisosia93</th>\n",
       "                        <td id=\"T_9201e9dc_40d2_11eb_b40b_367dda630ba6row0_col0\" class=\"data row0 col0\" >5</td>\n",
       "                        <td id=\"T_9201e9dc_40d2_11eb_b40b_367dda630ba6row0_col1\" class=\"data row0 col1\" >$3.79</td>\n",
       "                        <td id=\"T_9201e9dc_40d2_11eb_b40b_367dda630ba6row0_col2\" class=\"data row0 col2\" >$18.96</td>\n",
       "            </tr>\n",
       "            <tr>\n",
       "                        <th id=\"T_9201e9dc_40d2_11eb_b40b_367dda630ba6level0_row1\" class=\"row_heading level0 row1\" >Idastidru52</th>\n",
       "                        <td id=\"T_9201e9dc_40d2_11eb_b40b_367dda630ba6row1_col0\" class=\"data row1 col0\" >4</td>\n",
       "                        <td id=\"T_9201e9dc_40d2_11eb_b40b_367dda630ba6row1_col1\" class=\"data row1 col1\" >$3.86</td>\n",
       "                        <td id=\"T_9201e9dc_40d2_11eb_b40b_367dda630ba6row1_col2\" class=\"data row1 col2\" >$15.45</td>\n",
       "            </tr>\n",
       "            <tr>\n",
       "                        <th id=\"T_9201e9dc_40d2_11eb_b40b_367dda630ba6level0_row2\" class=\"row_heading level0 row2\" >Chamjask73</th>\n",
       "                        <td id=\"T_9201e9dc_40d2_11eb_b40b_367dda630ba6row2_col0\" class=\"data row2 col0\" >3</td>\n",
       "                        <td id=\"T_9201e9dc_40d2_11eb_b40b_367dda630ba6row2_col1\" class=\"data row2 col1\" >$4.61</td>\n",
       "                        <td id=\"T_9201e9dc_40d2_11eb_b40b_367dda630ba6row2_col2\" class=\"data row2 col2\" >$13.83</td>\n",
       "            </tr>\n",
       "            <tr>\n",
       "                        <th id=\"T_9201e9dc_40d2_11eb_b40b_367dda630ba6level0_row3\" class=\"row_heading level0 row3\" >Iral74</th>\n",
       "                        <td id=\"T_9201e9dc_40d2_11eb_b40b_367dda630ba6row3_col0\" class=\"data row3 col0\" >4</td>\n",
       "                        <td id=\"T_9201e9dc_40d2_11eb_b40b_367dda630ba6row3_col1\" class=\"data row3 col1\" >$3.40</td>\n",
       "                        <td id=\"T_9201e9dc_40d2_11eb_b40b_367dda630ba6row3_col2\" class=\"data row3 col2\" >$13.62</td>\n",
       "            </tr>\n",
       "            <tr>\n",
       "                        <th id=\"T_9201e9dc_40d2_11eb_b40b_367dda630ba6level0_row4\" class=\"row_heading level0 row4\" >Iskadarya95</th>\n",
       "                        <td id=\"T_9201e9dc_40d2_11eb_b40b_367dda630ba6row4_col0\" class=\"data row4 col0\" >3</td>\n",
       "                        <td id=\"T_9201e9dc_40d2_11eb_b40b_367dda630ba6row4_col1\" class=\"data row4 col1\" >$4.37</td>\n",
       "                        <td id=\"T_9201e9dc_40d2_11eb_b40b_367dda630ba6row4_col2\" class=\"data row4 col2\" >$13.10</td>\n",
       "            </tr>\n",
       "    </tbody></table>"
      ],
      "text/plain": [
       "<pandas.io.formats.style.Styler at 0x7f9b124571c0>"
      ]
     },
     "execution_count": 139,
     "metadata": {},
     "output_type": "execute_result"
    }
   ],
   "source": [
    "# Grouby screen name\n",
    "spender_stats = purchase_data.groupby(\"SN\")\n",
    "\n",
    "# Total purchases by name\n",
    "purchase_count_spender = spender_stats[\"Purchase ID\"].count()\n",
    "\n",
    "# Average purchase by name \n",
    "avg_purchase_price_spender = spender_stats[\"Price\"].mean()\n",
    "\n",
    "# Purchase total \n",
    "purchase_total_spender = spender_stats[\"Price\"].sum()\n",
    "\n",
    "# New DF\n",
    "top_spenders = pd.DataFrame({\"Purchase Count\": purchase_count_spender,\n",
    "                             \"Average Purchase Price\": avg_purchase_price_spender,\n",
    "                             \"Total Purchase Value\":purchase_total_spender})\n",
    "\n",
    "# Sort \n",
    "format_spenders = top_spenders.sort_values([\"Total Purchase Value\"], ascending=False).head()\n",
    "\n",
    "# Format and display\n",
    "format_spenders.style.format({\"Average Purchase Total\":\"${:,.2f}\",\n",
    "                                 \"Average Purchase Price\":\"${:,.2f}\", \n",
    "                                 \"Total Purchase Value\":\"${:,.2f}\"})"
   ]
  },
  {
   "cell_type": "markdown",
   "metadata": {},
   "source": [
    "## Most Popular Items"
   ]
  },
  {
   "cell_type": "markdown",
   "metadata": {},
   "source": [
    "* Retrieve the Item ID, Item Name, and Item Price columns\n",
    "\n",
    "\n",
    "* Group by Item ID and Item Name. Perform calculations to obtain purchase count, average item price, and total purchase value\n",
    "\n",
    "\n",
    "* Create a summary data frame to hold the results\n",
    "\n",
    "\n",
    "* Sort the purchase count column in descending order\n",
    "\n",
    "\n",
    "* Optional: give the displayed data cleaner formatting\n",
    "\n",
    "\n",
    "* Display a preview of the summary data frame\n",
    "\n"
   ]
  },
  {
   "cell_type": "code",
   "execution_count": 140,
   "metadata": {},
   "outputs": [
    {
     "data": {
      "text/html": [
       "<style  type=\"text/css\" >\n",
       "</style><table id=\"T_c2875e0c_40d2_11eb_b40b_367dda630ba6\" ><thead>    <tr>        <th class=\"blank\" ></th>        <th class=\"blank level0\" ></th>        <th class=\"col_heading level0 col0\" >Purchase Count</th>        <th class=\"col_heading level0 col1\" >Item Price</th>        <th class=\"col_heading level0 col2\" >Total Purchase Value</th>    </tr>    <tr>        <th class=\"index_name level0\" >Item ID</th>        <th class=\"index_name level1\" >Item Name</th>        <th class=\"blank\" ></th>        <th class=\"blank\" ></th>        <th class=\"blank\" ></th>    </tr></thead><tbody>\n",
       "                <tr>\n",
       "                        <th id=\"T_c2875e0c_40d2_11eb_b40b_367dda630ba6level0_row0\" class=\"row_heading level0 row0\" >92</th>\n",
       "                        <th id=\"T_c2875e0c_40d2_11eb_b40b_367dda630ba6level1_row0\" class=\"row_heading level1 row0\" >Final Critic</th>\n",
       "                        <td id=\"T_c2875e0c_40d2_11eb_b40b_367dda630ba6row0_col0\" class=\"data row0 col0\" >13</td>\n",
       "                        <td id=\"T_c2875e0c_40d2_11eb_b40b_367dda630ba6row0_col1\" class=\"data row0 col1\" >$4.61</td>\n",
       "                        <td id=\"T_c2875e0c_40d2_11eb_b40b_367dda630ba6row0_col2\" class=\"data row0 col2\" >$59.99</td>\n",
       "            </tr>\n",
       "            <tr>\n",
       "                        <th id=\"T_c2875e0c_40d2_11eb_b40b_367dda630ba6level0_row1\" class=\"row_heading level0 row1\" >178</th>\n",
       "                        <th id=\"T_c2875e0c_40d2_11eb_b40b_367dda630ba6level1_row1\" class=\"row_heading level1 row1\" >Oathbreaker, Last Hope of the Breaking Storm</th>\n",
       "                        <td id=\"T_c2875e0c_40d2_11eb_b40b_367dda630ba6row1_col0\" class=\"data row1 col0\" >12</td>\n",
       "                        <td id=\"T_c2875e0c_40d2_11eb_b40b_367dda630ba6row1_col1\" class=\"data row1 col1\" >$4.23</td>\n",
       "                        <td id=\"T_c2875e0c_40d2_11eb_b40b_367dda630ba6row1_col2\" class=\"data row1 col2\" >$50.76</td>\n",
       "            </tr>\n",
       "            <tr>\n",
       "                        <th id=\"T_c2875e0c_40d2_11eb_b40b_367dda630ba6level0_row2\" class=\"row_heading level0 row2\" >145</th>\n",
       "                        <th id=\"T_c2875e0c_40d2_11eb_b40b_367dda630ba6level1_row2\" class=\"row_heading level1 row2\" >Fiery Glass Crusader</th>\n",
       "                        <td id=\"T_c2875e0c_40d2_11eb_b40b_367dda630ba6row2_col0\" class=\"data row2 col0\" >9</td>\n",
       "                        <td id=\"T_c2875e0c_40d2_11eb_b40b_367dda630ba6row2_col1\" class=\"data row2 col1\" >$4.58</td>\n",
       "                        <td id=\"T_c2875e0c_40d2_11eb_b40b_367dda630ba6row2_col2\" class=\"data row2 col2\" >$41.22</td>\n",
       "            </tr>\n",
       "            <tr>\n",
       "                        <th id=\"T_c2875e0c_40d2_11eb_b40b_367dda630ba6level0_row3\" class=\"row_heading level0 row3\" >132</th>\n",
       "                        <th id=\"T_c2875e0c_40d2_11eb_b40b_367dda630ba6level1_row3\" class=\"row_heading level1 row3\" >Persuasion</th>\n",
       "                        <td id=\"T_c2875e0c_40d2_11eb_b40b_367dda630ba6row3_col0\" class=\"data row3 col0\" >9</td>\n",
       "                        <td id=\"T_c2875e0c_40d2_11eb_b40b_367dda630ba6row3_col1\" class=\"data row3 col1\" >$3.22</td>\n",
       "                        <td id=\"T_c2875e0c_40d2_11eb_b40b_367dda630ba6row3_col2\" class=\"data row3 col2\" >$28.99</td>\n",
       "            </tr>\n",
       "            <tr>\n",
       "                        <th id=\"T_c2875e0c_40d2_11eb_b40b_367dda630ba6level0_row4\" class=\"row_heading level0 row4\" >108</th>\n",
       "                        <th id=\"T_c2875e0c_40d2_11eb_b40b_367dda630ba6level1_row4\" class=\"row_heading level1 row4\" >Extraction, Quickblade Of Trembling Hands</th>\n",
       "                        <td id=\"T_c2875e0c_40d2_11eb_b40b_367dda630ba6row4_col0\" class=\"data row4 col0\" >9</td>\n",
       "                        <td id=\"T_c2875e0c_40d2_11eb_b40b_367dda630ba6row4_col1\" class=\"data row4 col1\" >$3.53</td>\n",
       "                        <td id=\"T_c2875e0c_40d2_11eb_b40b_367dda630ba6row4_col2\" class=\"data row4 col2\" >$31.77</td>\n",
       "            </tr>\n",
       "    </tbody></table>"
      ],
      "text/plain": [
       "<pandas.io.formats.style.Styler at 0x7f9b1245fd30>"
      ]
     },
     "execution_count": 140,
     "metadata": {},
     "output_type": "execute_result"
    }
   ],
   "source": [
    "# New DF\n",
    "items_df = purchase_data[[\"Item ID\", \"Item Name\", \"Price\"]]\n",
    "\n",
    "# Groupby\n",
    "items = items_df.groupby([\"Item ID\",\"Item Name\"])\n",
    "\n",
    "# Purchase count by item\n",
    "purchase_count_item = items[\"Price\"].count()\n",
    "\n",
    "# Purchase value by item\n",
    "purchase_value = (items[\"Price\"].sum()) \n",
    "\n",
    "# Individual price\n",
    "item_price = purchase_value/purchase_count_item\n",
    "\n",
    "# New DF\n",
    "most_popular = pd.DataFrame({\"Purchase Count\": purchase_count_item, \n",
    "                                   \"Item Price\": item_price,\n",
    "                                   \"Total Purchase Value\":purchase_value})\n",
    "\n",
    "# Sort\n",
    "popular = most_popular.sort_values([\"Purchase Count\"], ascending=False).head()\n",
    "\n",
    "# Format and Display\n",
    "popular.style.format({\"Item Price\":\"${:,.2f}\",\n",
    "                                \"Total Purchase Value\":\"${:,.2f}\"})"
   ]
  },
  {
   "cell_type": "markdown",
   "metadata": {},
   "source": [
    "## Most Profitable Items"
   ]
  },
  {
   "cell_type": "markdown",
   "metadata": {},
   "source": [
    "* Sort the above table by total purchase value in descending order\n",
    "\n",
    "\n",
    "* Optional: give the displayed data cleaner formatting\n",
    "\n",
    "\n",
    "* Display a preview of the data frame\n",
    "\n"
   ]
  },
  {
   "cell_type": "code",
   "execution_count": 136,
   "metadata": {
    "scrolled": true
   },
   "outputs": [
    {
     "data": {
      "text/html": [
       "<style  type=\"text/css\" >\n",
       "</style><table id=\"T_cb8575e4_40d1_11eb_b40b_367dda630ba6\" ><thead>    <tr>        <th class=\"blank\" ></th>        <th class=\"blank level0\" ></th>        <th class=\"col_heading level0 col0\" >Purchase Count</th>        <th class=\"col_heading level0 col1\" >Item Price</th>        <th class=\"col_heading level0 col2\" >Total Purchase Value</th>    </tr>    <tr>        <th class=\"index_name level0\" >Item ID</th>        <th class=\"index_name level1\" >Item Name</th>        <th class=\"blank\" ></th>        <th class=\"blank\" ></th>        <th class=\"blank\" ></th>    </tr></thead><tbody>\n",
       "                <tr>\n",
       "                        <th id=\"T_cb8575e4_40d1_11eb_b40b_367dda630ba6level0_row0\" class=\"row_heading level0 row0\" >92</th>\n",
       "                        <th id=\"T_cb8575e4_40d1_11eb_b40b_367dda630ba6level1_row0\" class=\"row_heading level1 row0\" >Final Critic</th>\n",
       "                        <td id=\"T_cb8575e4_40d1_11eb_b40b_367dda630ba6row0_col0\" class=\"data row0 col0\" >13</td>\n",
       "                        <td id=\"T_cb8575e4_40d1_11eb_b40b_367dda630ba6row0_col1\" class=\"data row0 col1\" >$4.61</td>\n",
       "                        <td id=\"T_cb8575e4_40d1_11eb_b40b_367dda630ba6row0_col2\" class=\"data row0 col2\" >$59.99</td>\n",
       "            </tr>\n",
       "            <tr>\n",
       "                        <th id=\"T_cb8575e4_40d1_11eb_b40b_367dda630ba6level0_row1\" class=\"row_heading level0 row1\" >178</th>\n",
       "                        <th id=\"T_cb8575e4_40d1_11eb_b40b_367dda630ba6level1_row1\" class=\"row_heading level1 row1\" >Oathbreaker, Last Hope of the Breaking Storm</th>\n",
       "                        <td id=\"T_cb8575e4_40d1_11eb_b40b_367dda630ba6row1_col0\" class=\"data row1 col0\" >12</td>\n",
       "                        <td id=\"T_cb8575e4_40d1_11eb_b40b_367dda630ba6row1_col1\" class=\"data row1 col1\" >$4.23</td>\n",
       "                        <td id=\"T_cb8575e4_40d1_11eb_b40b_367dda630ba6row1_col2\" class=\"data row1 col2\" >$50.76</td>\n",
       "            </tr>\n",
       "            <tr>\n",
       "                        <th id=\"T_cb8575e4_40d1_11eb_b40b_367dda630ba6level0_row2\" class=\"row_heading level0 row2\" >82</th>\n",
       "                        <th id=\"T_cb8575e4_40d1_11eb_b40b_367dda630ba6level1_row2\" class=\"row_heading level1 row2\" >Nirvana</th>\n",
       "                        <td id=\"T_cb8575e4_40d1_11eb_b40b_367dda630ba6row2_col0\" class=\"data row2 col0\" >9</td>\n",
       "                        <td id=\"T_cb8575e4_40d1_11eb_b40b_367dda630ba6row2_col1\" class=\"data row2 col1\" >$4.90</td>\n",
       "                        <td id=\"T_cb8575e4_40d1_11eb_b40b_367dda630ba6row2_col2\" class=\"data row2 col2\" >$44.10</td>\n",
       "            </tr>\n",
       "            <tr>\n",
       "                        <th id=\"T_cb8575e4_40d1_11eb_b40b_367dda630ba6level0_row3\" class=\"row_heading level0 row3\" >145</th>\n",
       "                        <th id=\"T_cb8575e4_40d1_11eb_b40b_367dda630ba6level1_row3\" class=\"row_heading level1 row3\" >Fiery Glass Crusader</th>\n",
       "                        <td id=\"T_cb8575e4_40d1_11eb_b40b_367dda630ba6row3_col0\" class=\"data row3 col0\" >9</td>\n",
       "                        <td id=\"T_cb8575e4_40d1_11eb_b40b_367dda630ba6row3_col1\" class=\"data row3 col1\" >$4.58</td>\n",
       "                        <td id=\"T_cb8575e4_40d1_11eb_b40b_367dda630ba6row3_col2\" class=\"data row3 col2\" >$41.22</td>\n",
       "            </tr>\n",
       "            <tr>\n",
       "                        <th id=\"T_cb8575e4_40d1_11eb_b40b_367dda630ba6level0_row4\" class=\"row_heading level0 row4\" >103</th>\n",
       "                        <th id=\"T_cb8575e4_40d1_11eb_b40b_367dda630ba6level1_row4\" class=\"row_heading level1 row4\" >Singed Scalpel</th>\n",
       "                        <td id=\"T_cb8575e4_40d1_11eb_b40b_367dda630ba6row4_col0\" class=\"data row4 col0\" >8</td>\n",
       "                        <td id=\"T_cb8575e4_40d1_11eb_b40b_367dda630ba6row4_col1\" class=\"data row4 col1\" >$4.35</td>\n",
       "                        <td id=\"T_cb8575e4_40d1_11eb_b40b_367dda630ba6row4_col2\" class=\"data row4 col2\" >$34.80</td>\n",
       "            </tr>\n",
       "    </tbody></table>"
      ],
      "text/plain": [
       "<pandas.io.formats.style.Styler at 0x7f9b124a5250>"
      ]
     },
     "execution_count": 136,
     "metadata": {},
     "output_type": "execute_result"
    }
   ],
   "source": [
    "# Sort\n",
    "profitable = most_popular.sort_values([\"Total Purchase Value\"],\n",
    "                                                   ascending=False).head()\n",
    "# Format \n",
    "profitable.style.format({\"Item Price\":\"${:,.2f}\",\n",
    "                        \"Total Purchase Value\":\"${:,.2f}\"})"
   ]
  },
  {
   "cell_type": "code",
   "execution_count": null,
   "metadata": {},
   "outputs": [],
   "source": []
  },
  {
   "cell_type": "code",
   "execution_count": null,
   "metadata": {},
   "outputs": [],
   "source": []
  }
 ],
 "metadata": {
  "anaconda-cloud": {},
  "kernel_info": {
   "name": "python3"
  },
  "kernelspec": {
   "display_name": "Python 3",
   "language": "python",
   "name": "python3"
  },
  "language_info": {
   "codemirror_mode": {
    "name": "ipython",
    "version": 3
   },
   "file_extension": ".py",
   "mimetype": "text/x-python",
   "name": "python",
   "nbconvert_exporter": "python",
   "pygments_lexer": "ipython3",
   "version": "3.8.3"
  },
  "latex_envs": {
   "LaTeX_envs_menu_present": true,
   "autoclose": false,
   "autocomplete": true,
   "bibliofile": "biblio.bib",
   "cite_by": "apalike",
   "current_citInitial": 1,
   "eqLabelWithNumbers": true,
   "eqNumInitial": 1,
   "hotkeys": {
    "equation": "Ctrl-E",
    "itemize": "Ctrl-I"
   },
   "labels_anchors": false,
   "latex_user_defs": false,
   "report_style_numbering": false,
   "user_envs_cfg": false
  },
  "nteract": {
   "version": "0.2.0"
  }
 },
 "nbformat": 4,
 "nbformat_minor": 4
}
